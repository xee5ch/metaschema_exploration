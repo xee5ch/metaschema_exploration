{
 "cells": [
  {
   "cell_type": "markdown",
   "id": "e2fbf917-589a-4e46-93af-f444506ffc78",
   "metadata": {},
   "source": [
    "# Metaschemas are graphs, graphs are metaschemas\n",
    "\n",
    "That is a very poetic title, but what does it in fact mean? If we read [the current official documentation for Metaschema's specification](https://pages.nist.gov/metaschema/specification/information-modeling/), we see that Metaschema models are a special kind of graph.\n",
    "\n",
    "> In a Metaschema module, an information model is represented as a cyclic directed multigraph.\n",
    "\n",
    "So what does that mean? How can we visualize the graph data structure of a model? How about how the model is related to its document instance? What does this mean for parsing: must you always parse and process a Metaschema document instance in lock step with its corresponding model?\n",
    "\n",
    "These are all great questions, let's explore them below. But first, we need to perform a little housekeeping."
   ]
  },
  {
   "cell_type": "markdown",
   "id": "0e5c8776-842d-45f5-8090-89956a98a9c8",
   "metadata": {},
   "source": [
    "## Prerequisites\n",
    "\n",
    "If you are viewing this article, and you are not aware yet, the content and code are integrated into [a Jupyter notebook](https://docs.jupyter.org/en/latest/#what-is-a-notebook). If you are not familiar, the Jupyter Project, and its linked documentation in the previous sentence, explain useful background here. There are a few ways to run this. You do not have to just follow along, regardless of which way you choose. The beauty of this article, these narrative parts and the code, is you can run your own copy with either method and adapt the content (if you do not like my wording) and, most importantly, try the code for yourself and change things.\n",
    "\n",
    "If you are less familiar with system administration and these data science tools, I recommend using the [MyBinder](https://mybinder.org/) or [Google Collab]() service to load this notebook from GitHub and run your copy and explore. To do that, you will be asked for [the full URL to this published notebook, beginning with `https://...`].\n",
    "\n",
    "Alternatively, if you enjoy locally running your free or open-source software on your own computers and would rather not use these cloud services, you can run the following steps with `git` to locally clone the repository and use `docker` to run a container instance with the JupyterLab image and have an almost identical local experience.\n",
    "\n",
    "1. `git clone https://github.com/xee5ch/metaschema_experiments.git`\n",
    "1. `cd metaschema_experiments/visualizations`\n",
    "1. `docker run --rm -p 8889:8888 -v $(pwd):/home/jovyan/work quay.io/jupyter/base-notebook start-notebook.py --NotebookApp.token='BE_ORIGINAL_AND_SECURITY-MINDED_REPLACE_ME!'`\n",
    "\n",
    "Regardless of the strategy above, cloud-based or local, at this point you can run the shell command in the next cell, beginning with `!pip` to say run the `pip` executable on the shell and not native Python code. This command install the dependencies needed where you are running this Jupyter notebook.\n",
    "\n",
    "Once you have done that, you are ready to go and start exploring!"
   ]
  },
  {
   "cell_type": "code",
   "execution_count": null,
   "id": "e6e6ae07-8f07-43ee-854c-8c7ea5ab223e",
   "metadata": {},
   "outputs": [],
   "source": [
    "!pip install -r requirements.txt"
   ]
  }
 ],
 "metadata": {
  "kernelspec": {
   "display_name": "Python 3 (ipykernel)",
   "language": "python",
   "name": "python3"
  },
  "language_info": {
   "codemirror_mode": {
    "name": "ipython",
    "version": 3
   },
   "file_extension": ".py",
   "mimetype": "text/x-python",
   "name": "python",
   "nbconvert_exporter": "python",
   "pygments_lexer": "ipython3",
   "version": "3.11.9"
  }
 },
 "nbformat": 4,
 "nbformat_minor": 5
}
